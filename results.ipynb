{
 "cells": [
  {
   "cell_type": "code",
   "execution_count": 27,
   "metadata": {
    "collapsed": false
   },
   "outputs": [],
   "source": [
    "import pickle\n",
    "import numpy as np\n",
    "import pandas as pd\n",
    "import matplotlib.pyplot as plt\n",
    "import seaborn as sns"
   ]
  },
  {
   "cell_type": "code",
   "execution_count": 28,
   "metadata": {
    "collapsed": true
   },
   "outputs": [],
   "source": [
    "sentences1, sentences2, predictions, attentions = pickle.load(open('attention_results.pkl', 'rb'))"
   ]
  },
  {
   "cell_type": "code",
   "execution_count": 29,
   "metadata": {
    "collapsed": false
   },
   "outputs": [
    {
     "data": {
      "text/plain": [
       "[array([0]),\n",
       " array([1]),\n",
       " array([1]),\n",
       " array([2]),\n",
       " array([0]),\n",
       " array([1]),\n",
       " array([1])]"
      ]
     },
     "execution_count": 29,
     "metadata": {},
     "output_type": "execute_result"
    }
   ],
   "source": [
    "predictions"
   ]
  },
  {
   "cell_type": "code",
   "execution_count": 30,
   "metadata": {
    "collapsed": false
   },
   "outputs": [
    {
     "data": {
      "text/plain": [
       "['A man in a blue shirt standing in front of a garage-like structure painted with geometric designs',\n",
       " 'A Little League team tries to catch a runner sliding into a base in an afternoon game',\n",
       " 'A person on a horse jumps over a broken down airplane',\n",
       " 'Children smiling and waving at camera',\n",
       " 'A boy is jumping on skateboard in the middle of a red bridge',\n",
       " 'A girl in a pink tank top and her boyfriend sitting on stone steps',\n",
       " 'A small group of children are standing in a classroom and one of them has a foot in a trashcan which also has a rope leading out of it']"
      ]
     },
     "execution_count": 30,
     "metadata": {},
     "output_type": "execute_result"
    }
   ],
   "source": [
    "sentences1"
   ]
  },
  {
   "cell_type": "code",
   "execution_count": 31,
   "metadata": {
    "collapsed": false
   },
   "outputs": [
    {
     "data": {
      "text/plain": [
       "['A man is wearing a blue shirt',\n",
       " 'A team is trying to tag a runner out',\n",
       " 'A person is outdoors, on a horse',\n",
       " 'They are smiling at their parents',\n",
       " 'The boy skates down the sidewalk',\n",
       " 'A girl is sitting on stone steps in a pink tank top with her boyfriend',\n",
       " 'There is a child with their foot in a garbage can near some other kids in a classroom']"
      ]
     },
     "execution_count": 31,
     "metadata": {},
     "output_type": "execute_result"
    }
   ],
   "source": [
    "sentences2"
   ]
  },
  {
   "cell_type": "code",
   "execution_count": 54,
   "metadata": {
    "collapsed": false
   },
   "outputs": [
    {
     "name": "stdout",
     "output_type": "stream",
     "text": [
      "['A', 'boy', 'is', 'jumping', 'on', 'skateboard', 'in', 'the', 'middle', 'of', 'a', 'red', 'bridge']\n",
      "['The', 'boy', 'skates', 'down', 'the', 'sidewalk']\n",
      "13 6\n"
     ]
    }
   ],
   "source": [
    "i=4\n",
    "sent1, sent2 = sentences1[i], sentences2[i]\n",
    "sent1_w, sent2_w = [w for w in sent1.split()], [w for w in sent2.split()]\n",
    "len1, len2 = len(sent1_w), len(sent2_w)\n",
    "\n",
    "print(sent1_w)\n",
    "print(sent2_w)\n",
    "print(len1, len2)"
   ]
  },
  {
   "cell_type": "code",
   "execution_count": 55,
   "metadata": {
    "collapsed": false
   },
   "outputs": [
    {
     "data": {
      "image/png": "[encoded data removed]",
      "text/plain": [
       "<matplotlib.figure.Figure at 0x7fe2da8a4940>"
      ]
     },
     "metadata": {},
     "output_type": "display_data"
    }
   ],
   "source": [
    "attention = attentions[i][:len2, :len1]\n",
    "\n",
    "column_labels = sent1_w\n",
    "row_labels = sent2_w\n",
    "data = attention\n",
    "\n",
    "# Plot it out\n",
    "fig, ax = plt.subplots()\n",
    "heatmap = ax.pcolor(data, cmap=plt.cm.Greens, alpha=0.8)\n",
    "\n",
    "# Format\n",
    "fig = plt.gcf()\n",
    "fig.set_size_inches(5.5*len1/13, 3*len2/6)\n",
    "\n",
    "# turn off the frame\n",
    "ax.set_frame_on(False)\n",
    "\n",
    "# put the major ticks at the middle of each cell\n",
    "ax.set_yticks(np.arange(data.shape[0]) + 0.5, minor=False)\n",
    "ax.set_xticks(np.arange(data.shape[1]) + 0.5, minor=False)\n",
    "\n",
    "# want a more natural, table-like display\n",
    "ax.invert_yaxis()\n",
    "ax.xaxis.tick_top()\n",
    "\n",
    "# note I could have used nba_sort.columns but made \"labels\" instead\n",
    "ax.set_xticklabels(column_labels, minor=False)\n",
    "ax.set_yticklabels(row_labels, minor=False)\n",
    "\n",
    "# rotate the\n",
    "plt.xticks(rotation=60)\n",
    "\n",
    "plt.tick_params(axis='both', which='major', labelsize=12)\n",
    "\n",
    "ax.grid(False)\n",
    "\n",
    "# Turn off all the ticks\n",
    "#ax = plt.gca()\n",
    "\n",
    "for t in ax.xaxis.get_major_ticks():\n",
    "    t.tick1On = False\n",
    "    t.tick2On = False\n",
    "for t in ax.yaxis.get_major_ticks():\n",
    "    t.tick1On = False\n",
    "    t.tick2On = False\n",
    "\n",
    "plt.show()"
   ]
  },
  {
   "cell_type": "code",
   "execution_count": null,
   "metadata": {
    "collapsed": true
   },
   "outputs": [],
   "source": []
  }
 ],
 "metadata": {
  "kernelspec": {
   "display_name": "Python 3",
   "language": "python",
   "name": "python3"
  },
  "language_info": {
   "codemirror_mode": {
    "name": "ipython",
    "version": 3
   },
   "file_extension": ".py",
   "mimetype": "text/x-python",
   "name": "python",
   "nbconvert_exporter": "python",
   "pygments_lexer": "ipython3",
   "version": "3.5.2"
  }
 },
 "nbformat": 4,
 "nbformat_minor": 2
}
